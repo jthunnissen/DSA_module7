{
 "cells": [
  {
   "cell_type": "code",
   "execution_count": 5,
   "metadata": {},
   "outputs": [],
   "source": [
    "import numpy as np\n",
    "import pandas as pd\n",
    "from sklearn.linear_model import LogisticRegression\n",
    "from sklearn.model_selection import train_test_split\n",
    "from sklearn.metrics import f1_score"
   ]
  },
  {
   "cell_type": "code",
   "execution_count": 6,
   "metadata": {},
   "outputs": [
    {
     "data": {
      "text/html": [
       "<div>\n",
       "<style scoped>\n",
       "    .dataframe tbody tr th:only-of-type {\n",
       "        vertical-align: middle;\n",
       "    }\n",
       "\n",
       "    .dataframe tbody tr th {\n",
       "        vertical-align: top;\n",
       "    }\n",
       "\n",
       "    .dataframe thead th {\n",
       "        text-align: right;\n",
       "    }\n",
       "</style>\n",
       "<table border=\"1\" class=\"dataframe\">\n",
       "  <thead>\n",
       "    <tr style=\"text-align: right;\">\n",
       "      <th></th>\n",
       "      <th>label</th>\n",
       "      <th>approx_payout_date</th>\n",
       "      <th>body_length</th>\n",
       "      <th>channels</th>\n",
       "      <th>delivery_method</th>\n",
       "      <th>event_created</th>\n",
       "      <th>event_end</th>\n",
       "      <th>event_published</th>\n",
       "      <th>event_start</th>\n",
       "      <th>fb_published</th>\n",
       "      <th>...</th>\n",
       "      <th>org_facebook</th>\n",
       "      <th>org_twitter</th>\n",
       "      <th>sale_duration</th>\n",
       "      <th>sale_duration2</th>\n",
       "      <th>show_map</th>\n",
       "      <th>user_age</th>\n",
       "      <th>user_created</th>\n",
       "      <th>user_type</th>\n",
       "      <th>venue_latitude</th>\n",
       "      <th>venue_longitude</th>\n",
       "    </tr>\n",
       "  </thead>\n",
       "  <tbody>\n",
       "    <tr>\n",
       "      <th>count</th>\n",
       "      <td>8679.0</td>\n",
       "      <td>8.679000e+03</td>\n",
       "      <td>8679.000000</td>\n",
       "      <td>8679.000000</td>\n",
       "      <td>8678.000000</td>\n",
       "      <td>8.679000e+03</td>\n",
       "      <td>8.679000e+03</td>\n",
       "      <td>8.677000e+03</td>\n",
       "      <td>8.679000e+03</td>\n",
       "      <td>8679.000000</td>\n",
       "      <td>...</td>\n",
       "      <td>8675.000000</td>\n",
       "      <td>8675.000000</td>\n",
       "      <td>8654.000000</td>\n",
       "      <td>8679.000000</td>\n",
       "      <td>8679.000000</td>\n",
       "      <td>8679.000000</td>\n",
       "      <td>8.679000e+03</td>\n",
       "      <td>8679.000000</td>\n",
       "      <td>8207.000000</td>\n",
       "      <td>8207.000000</td>\n",
       "    </tr>\n",
       "    <tr>\n",
       "      <th>mean</th>\n",
       "      <td>0.0</td>\n",
       "      <td>1.351244e+09</td>\n",
       "      <td>3844.163613</td>\n",
       "      <td>6.379882</td>\n",
       "      <td>0.472690</td>\n",
       "      <td>1.345812e+09</td>\n",
       "      <td>1.350812e+09</td>\n",
       "      <td>1.342589e+09</td>\n",
       "      <td>1.350529e+09</td>\n",
       "      <td>0.134232</td>\n",
       "      <td>...</td>\n",
       "      <td>8.704323</td>\n",
       "      <td>4.725533</td>\n",
       "      <td>50.332563</td>\n",
       "      <td>54.481507</td>\n",
       "      <td>0.850674</td>\n",
       "      <td>397.322387</td>\n",
       "      <td>1.311483e+09</td>\n",
       "      <td>2.816684</td>\n",
       "      <td>34.948357</td>\n",
       "      <td>-59.794542</td>\n",
       "    </tr>\n",
       "    <tr>\n",
       "      <th>std</th>\n",
       "      <td>0.0</td>\n",
       "      <td>2.342819e+07</td>\n",
       "      <td>5878.234376</td>\n",
       "      <td>3.775971</td>\n",
       "      <td>0.597045</td>\n",
       "      <td>2.352930e+07</td>\n",
       "      <td>2.342819e+07</td>\n",
       "      <td>7.306899e+07</td>\n",
       "      <td>2.344668e+07</td>\n",
       "      <td>0.340921</td>\n",
       "      <td>...</td>\n",
       "      <td>12.101878</td>\n",
       "      <td>6.143803</td>\n",
       "      <td>53.070005</td>\n",
       "      <td>58.210002</td>\n",
       "      <td>0.356430</td>\n",
       "      <td>413.118507</td>\n",
       "      <td>4.015237e+07</td>\n",
       "      <td>1.494992</td>\n",
       "      <td>20.852035</td>\n",
       "      <td>68.001186</td>\n",
       "    </tr>\n",
       "    <tr>\n",
       "      <th>min</th>\n",
       "      <td>0.0</td>\n",
       "      <td>1.290222e+09</td>\n",
       "      <td>0.000000</td>\n",
       "      <td>0.000000</td>\n",
       "      <td>0.000000</td>\n",
       "      <td>1.256226e+09</td>\n",
       "      <td>1.289790e+09</td>\n",
       "      <td>0.000000e+00</td>\n",
       "      <td>1.273090e+09</td>\n",
       "      <td>0.000000</td>\n",
       "      <td>...</td>\n",
       "      <td>0.000000</td>\n",
       "      <td>0.000000</td>\n",
       "      <td>-143.000000</td>\n",
       "      <td>-28.000000</td>\n",
       "      <td>0.000000</td>\n",
       "      <td>0.000000</td>\n",
       "      <td>1.014390e+09</td>\n",
       "      <td>1.000000</td>\n",
       "      <td>-45.045208</td>\n",
       "      <td>-159.390183</td>\n",
       "    </tr>\n",
       "    <tr>\n",
       "      <th>25%</th>\n",
       "      <td>0.0</td>\n",
       "      <td>1.334722e+09</td>\n",
       "      <td>894.500000</td>\n",
       "      <td>5.000000</td>\n",
       "      <td>0.000000</td>\n",
       "      <td>1.329250e+09</td>\n",
       "      <td>1.334290e+09</td>\n",
       "      <td>1.329407e+09</td>\n",
       "      <td>1.333827e+09</td>\n",
       "      <td>0.000000</td>\n",
       "      <td>...</td>\n",
       "      <td>0.000000</td>\n",
       "      <td>0.000000</td>\n",
       "      <td>19.000000</td>\n",
       "      <td>21.000000</td>\n",
       "      <td>1.000000</td>\n",
       "      <td>36.000000</td>\n",
       "      <td>1.285259e+09</td>\n",
       "      <td>3.000000</td>\n",
       "      <td>34.027443</td>\n",
       "      <td>-97.602888</td>\n",
       "    </tr>\n",
       "    <tr>\n",
       "      <th>50%</th>\n",
       "      <td>0.0</td>\n",
       "      <td>1.355983e+09</td>\n",
       "      <td>2134.000000</td>\n",
       "      <td>6.000000</td>\n",
       "      <td>0.000000</td>\n",
       "      <td>1.351023e+09</td>\n",
       "      <td>1.355551e+09</td>\n",
       "      <td>1.351182e+09</td>\n",
       "      <td>1.355278e+09</td>\n",
       "      <td>0.000000</td>\n",
       "      <td>...</td>\n",
       "      <td>0.000000</td>\n",
       "      <td>0.000000</td>\n",
       "      <td>35.500000</td>\n",
       "      <td>38.000000</td>\n",
       "      <td>1.000000</td>\n",
       "      <td>286.000000</td>\n",
       "      <td>1.314205e+09</td>\n",
       "      <td>3.000000</td>\n",
       "      <td>39.996758</td>\n",
       "      <td>-79.669032</td>\n",
       "    </tr>\n",
       "    <tr>\n",
       "      <th>75%</th>\n",
       "      <td>0.0</td>\n",
       "      <td>1.370646e+09</td>\n",
       "      <td>4497.000000</td>\n",
       "      <td>8.000000</td>\n",
       "      <td>1.000000</td>\n",
       "      <td>1.365133e+09</td>\n",
       "      <td>1.370214e+09</td>\n",
       "      <td>1.365444e+09</td>\n",
       "      <td>1.370052e+09</td>\n",
       "      <td>0.000000</td>\n",
       "      <td>...</td>\n",
       "      <td>15.000000</td>\n",
       "      <td>11.000000</td>\n",
       "      <td>63.000000</td>\n",
       "      <td>68.000000</td>\n",
       "      <td>1.000000</td>\n",
       "      <td>630.000000</td>\n",
       "      <td>1.343299e+09</td>\n",
       "      <td>3.000000</td>\n",
       "      <td>44.697197</td>\n",
       "      <td>-4.258091</td>\n",
       "    </tr>\n",
       "    <tr>\n",
       "      <th>max</th>\n",
       "      <td>0.0</td>\n",
       "      <td>1.419293e+09</td>\n",
       "      <td>65535.000000</td>\n",
       "      <td>13.000000</td>\n",
       "      <td>3.000000</td>\n",
       "      <td>1.381171e+09</td>\n",
       "      <td>1.418861e+09</td>\n",
       "      <td>1.381172e+09</td>\n",
       "      <td>1.418850e+09</td>\n",
       "      <td>1.000000</td>\n",
       "      <td>...</td>\n",
       "      <td>88.000000</td>\n",
       "      <td>34.000000</td>\n",
       "      <td>848.000000</td>\n",
       "      <td>848.000000</td>\n",
       "      <td>1.000000</td>\n",
       "      <td>3794.000000</td>\n",
       "      <td>1.380115e+09</td>\n",
       "      <td>103.000000</td>\n",
       "      <td>64.844022</td>\n",
       "      <td>176.169492</td>\n",
       "    </tr>\n",
       "  </tbody>\n",
       "</table>\n",
       "<p>8 rows × 28 columns</p>\n",
       "</div>"
      ],
      "text/plain": [
       "        label  approx_payout_date   body_length     channels  delivery_method  \\\n",
       "count  8679.0        8.679000e+03   8679.000000  8679.000000      8678.000000   \n",
       "mean      0.0        1.351244e+09   3844.163613     6.379882         0.472690   \n",
       "std       0.0        2.342819e+07   5878.234376     3.775971         0.597045   \n",
       "min       0.0        1.290222e+09      0.000000     0.000000         0.000000   \n",
       "25%       0.0        1.334722e+09    894.500000     5.000000         0.000000   \n",
       "50%       0.0        1.355983e+09   2134.000000     6.000000         0.000000   \n",
       "75%       0.0        1.370646e+09   4497.000000     8.000000         1.000000   \n",
       "max       0.0        1.419293e+09  65535.000000    13.000000         3.000000   \n",
       "\n",
       "       event_created     event_end  event_published   event_start  \\\n",
       "count   8.679000e+03  8.679000e+03     8.677000e+03  8.679000e+03   \n",
       "mean    1.345812e+09  1.350812e+09     1.342589e+09  1.350529e+09   \n",
       "std     2.352930e+07  2.342819e+07     7.306899e+07  2.344668e+07   \n",
       "min     1.256226e+09  1.289790e+09     0.000000e+00  1.273090e+09   \n",
       "25%     1.329250e+09  1.334290e+09     1.329407e+09  1.333827e+09   \n",
       "50%     1.351023e+09  1.355551e+09     1.351182e+09  1.355278e+09   \n",
       "75%     1.365133e+09  1.370214e+09     1.365444e+09  1.370052e+09   \n",
       "max     1.381171e+09  1.418861e+09     1.381172e+09  1.418850e+09   \n",
       "\n",
       "       fb_published       ...         org_facebook  org_twitter  \\\n",
       "count   8679.000000       ...          8675.000000  8675.000000   \n",
       "mean       0.134232       ...             8.704323     4.725533   \n",
       "std        0.340921       ...            12.101878     6.143803   \n",
       "min        0.000000       ...             0.000000     0.000000   \n",
       "25%        0.000000       ...             0.000000     0.000000   \n",
       "50%        0.000000       ...             0.000000     0.000000   \n",
       "75%        0.000000       ...            15.000000    11.000000   \n",
       "max        1.000000       ...            88.000000    34.000000   \n",
       "\n",
       "       sale_duration  sale_duration2     show_map     user_age  user_created  \\\n",
       "count    8654.000000     8679.000000  8679.000000  8679.000000  8.679000e+03   \n",
       "mean       50.332563       54.481507     0.850674   397.322387  1.311483e+09   \n",
       "std        53.070005       58.210002     0.356430   413.118507  4.015237e+07   \n",
       "min      -143.000000      -28.000000     0.000000     0.000000  1.014390e+09   \n",
       "25%        19.000000       21.000000     1.000000    36.000000  1.285259e+09   \n",
       "50%        35.500000       38.000000     1.000000   286.000000  1.314205e+09   \n",
       "75%        63.000000       68.000000     1.000000   630.000000  1.343299e+09   \n",
       "max       848.000000      848.000000     1.000000  3794.000000  1.380115e+09   \n",
       "\n",
       "         user_type  venue_latitude  venue_longitude  \n",
       "count  8679.000000     8207.000000      8207.000000  \n",
       "mean      2.816684       34.948357       -59.794542  \n",
       "std       1.494992       20.852035        68.001186  \n",
       "min       1.000000      -45.045208      -159.390183  \n",
       "25%       3.000000       34.027443       -97.602888  \n",
       "50%       3.000000       39.996758       -79.669032  \n",
       "75%       3.000000       44.697197        -4.258091  \n",
       "max     103.000000       64.844022       176.169492  \n",
       "\n",
       "[8 rows x 28 columns]"
      ]
     },
     "execution_count": 6,
     "metadata": {},
     "output_type": "execute_result"
    }
   ],
   "source": [
    "df = pd.read_csv('train_set.csv')\n",
    "df_l0 = df.loc[lambda df: df.label==0]\n",
    "df_l1 = df.loc[lambda df: df.label==1]\n",
    "df_l0.describe()"
   ]
  },
  {
   "cell_type": "code",
   "execution_count": 7,
   "metadata": {},
   "outputs": [
    {
     "name": "stdout",
     "output_type": "stream",
     "text": [
      "prediction accc: 0.8343782654127482. f1: 0.4448336252189142\n"
     ]
    }
   ],
   "source": [
    "#features = df.loc[lambda df: df['delivery_method'].isnull() == False]\n",
    "X = df[['user_type','org_facebook','org_twitter']].fillna(0)\n",
    "y = df['label']\n",
    "X_train, X_test, y_train, y_test = train_test_split(X, y, train_size=0.8, test_size=0.2, random_state=42)\n",
    "#label_weight = compute_sample_weight('balanced', y_train, indices=None)\n",
    "reg = LogisticRegression(class_weight=\"balanced\")\n",
    "reg.fit(X_train,y_train)\n",
    "y_pred = reg.predict(X_test)\n",
    "f1 = f1_score(y_test, y_pred)\n",
    "acc = reg.score(X_test, y_test)\n",
    "print('prediction accc: {}. f1: {}'.format(acc,f1))"
   ]
  },
  {
   "cell_type": "code",
   "execution_count": 1,
   "metadata": {},
   "outputs": [],
   "source": [
    "from sklearn.externals import joblib"
   ]
  },
  {
   "cell_type": "code",
   "execution_count": 11,
   "metadata": {},
   "outputs": [
    {
     "data": {
      "text/plain": [
       "['regressie.plk']"
      ]
     },
     "execution_count": 11,
     "metadata": {},
     "output_type": "execute_result"
    }
   ],
   "source": [
    "joblib.dump(reg,'regressie.plk')"
   ]
  },
  {
   "cell_type": "code",
   "execution_count": 11,
   "metadata": {},
   "outputs": [],
   "source": [
    "import json"
   ]
  },
  {
   "cell_type": "code",
   "execution_count": 12,
   "metadata": {},
   "outputs": [],
   "source": [
    "location = !pwd"
   ]
  },
  {
   "cell_type": "code",
   "execution_count": 16,
   "metadata": {},
   "outputs": [],
   "source": [
    "with open('/Users/boris/DSA_module7/example_request_data.json') as f: \n",
    "    example_params = json.load(f)"
   ]
  },
  {
   "cell_type": "code",
   "execution_count": 17,
   "metadata": {},
   "outputs": [],
   "source": [
    "import requests"
   ]
  },
  {
   "cell_type": "code",
   "execution_count": 18,
   "metadata": {},
   "outputs": [
    {
     "data": {
      "text/plain": [
       "<Response [500]>"
      ]
     },
     "execution_count": 18,
     "metadata": {},
     "output_type": "execute_result"
    }
   ],
   "source": [
    "res = requests.get('http://localhost:5000/api/v1/predict',example_params)\n",
    "res"
   ]
  },
  {
   "cell_type": "code",
   "execution_count": 19,
   "metadata": {},
   "outputs": [
    {
     "data": {
      "text/plain": [
       "{'message': 'Internal Server Error'}"
      ]
     },
     "execution_count": 19,
     "metadata": {},
     "output_type": "execute_result"
    }
   ],
   "source": [
    "json.loads(res.content.decode('utf8'))"
   ]
  },
  {
   "cell_type": "code",
   "execution_count": 30,
   "metadata": {},
   "outputs": [],
   "source": [
    "lr = joblib.load('regressie.plk')"
   ]
  },
  {
   "cell_type": "code",
   "execution_count": 25,
   "metadata": {},
   "outputs": [
    {
     "data": {
      "text/plain": [
       "{'approx_payout_date': 1367289000,\n",
       " 'body_length': 6635,\n",
       " 'channels': 11,\n",
       " 'country': 'US',\n",
       " 'currency': 'USD',\n",
       " 'delivery_method': 0.0,\n",
       " 'description': '<p class=\"MsoNormal\" style=\"margin: 0in 0in 0pt; text-align: center;\" align=\"center\"><strong style=\"mso-bidi-font-weight: normal;\"><span style=\"font-size: 22pt; font-family: \\'Comic Sans MS\\';\">SHORE REHABILITATION INSTITUTE</span></strong><span style=\"font-size: 22pt; font-family: \\'Comic Sans MS\\';\"> presents:</span></p>\\r\\n<p class=\"MsoNormal\" style=\"margin: 0in 0in 0pt -9pt; text-align: center;\" align=\"center\"><span style=\"font-size: 22pt; font-family: \\'Comic Sans MS\\';\">4/24/2013- 5:30pm-7:30pm</span></p>\\r\\n<p class=\"MsoNormal\" style=\"margin: 0in 0in 0pt -9pt; text-align: center;\" align=\"center\"><span style=\"font-size: 16pt; font-family: \\'Comic Sans MS\\';\">Lower Level Conference Room “C” </span></p>\\r\\n<p class=\"MsoNormal\" style=\"margin: 0in 0in 0pt;\"><em style=\"mso-bidi-font-style: normal;\"><span style=\"font-size: 28pt; font-family: \\'Comic Sans MS\\';\">“The</span></em><strong><span style=\"font-size: 28pt; font-family: \\'Comic Sans MS\\';\"> Role of Neuropsychology and Cognitive Rehabilitation in Recovery from Brain Injury</span></strong><em style=\"mso-bidi-font-style: normal;\"><span style=\"font-size: 28pt; font-family: \\'Comic Sans MS\\';\">”</span></em></p>\\r\\n<p>\\xa0</p>\\r\\n<p class=\"MsoNormal\" style=\"margin: 0in 0in 0pt -9pt; text-align: center;\" align=\"center\"><strong style=\"mso-bidi-font-weight: normal;\"><u><span style=\"font-family: \\'Comic Sans MS\\'; mso-bidi-font-size: 12.0pt;\"><font size=\"3\">Target Audience</font></span></u></strong></p>\\r\\n<p>\\xa0</p>\\r\\n<p class=\"MsoNormal\" style=\"margin: 0in 0in 0pt -9pt; text-align: center;\" align=\"center\"><span style=\"font-family: \\'Comic Sans MS\\'; mso-bidi-font-size: 12.0pt;\"><font size=\"3\">Physicians, Case Managers, Registered Nurses, Social Workers, Physical, Occupational and Speech Therapists.</font></span></p>\\r\\n<p>\\xa0</p>\\r\\n<p class=\"MsoNormal\" style=\"margin: 0in 0in 0pt -9pt; mso-outline-level: 4;\"><em style=\"mso-bidi-font-style: normal;\"><span style=\"font-size: 18pt; font-family: \\'Comic Sans MS\\';\"><span style=\"mso-spacerun: yes;\">\\xa0</span></span></em></p>\\r\\n<p class=\"MsoListParagraphCxSpFirst\" style=\"text-indent: -0.25in; margin: 0in 0in 0pt 0.5in; mso-list: l1 level1 lfo1;\"><span style=\"font-family: Symbol; mso-fareast-font-family: Symbol; mso-bidi-font-family: Symbol;\"><span style=\"mso-list: Ignore;\"><font size=\"3\">·</font><span style=\"font: 7pt \\'Times New Roman\\';\">\\xa0\\xa0\\xa0\\xa0\\xa0\\xa0\\xa0\\xa0 </span></span></span><span style=\"line-height: 115%; color: black; font-size: 14pt;\"><font face=\"Calibri\">Two contact hours approved for the appropriate regulatory bodies for\\xa0Physical Therapists, Occupational Therapists, case Managers and Social workers </font></span></p>\\r\\n<p class=\"MsoListParagraphCxSpMiddle\" style=\"text-indent: -0.25in; margin: 0in 0in 0pt 0.5in; mso-list: l1 level1 lfo1;\"><span style=\"font-family: Symbol; mso-fareast-font-family: Symbol; mso-bidi-font-family: Symbol;\"><span style=\"mso-list: Ignore;\"><font size=\"3\">·</font><span style=\"font: 7pt \\'Times New Roman\\';\">\\xa0\\xa0\\xa0\\xa0\\xa0\\xa0\\xa0\\xa0 </span></span></span><span style=\"line-height: 115%; color: black; font-size: 14pt;\"><font face=\"Calibri\">To receive CEUs attendance throughout the program is required.</font></span></p>\\r\\n<p class=\"MsoListParagraphCxSpLast\" style=\"text-indent: -0.25in; margin: 0in 0in 10pt 0.5in; mso-list: l1 level1 lfo1;\"><span style=\"font-family: Symbol; mso-fareast-font-family: Symbol; mso-bidi-font-family: Symbol;\"><span style=\"mso-list: Ignore;\"><font size=\"3\">·</font><span style=\"font: 7pt \\'Times New Roman\\';\">\\xa0\\xa0\\xa0\\xa0\\xa0\\xa0\\xa0\\xa0 </span></span></span><span style=\"line-height: 115%; color: black; font-size: 14pt;\"><font face=\"Calibri\">Program fee will be refunded if participant expresses dissatisfaction.</font></span></p>\\r\\n<p class=\"MsoNormal\" style=\"margin: 0in 0in 10pt 0.25in;\"><strong style=\"mso-bidi-font-weight: normal;\"><font size=\"3\"><font face=\"Calibri\">Agenda:</font></font></strong></p>\\r\\n<p class=\"MsoNormal\" style=\"margin: 0in 0in 10pt 0.25in;\"><font size=\"3\" face=\"Calibri\">\\xa0</font><font size=\"3\" face=\"Calibri\">I. Neuropsychology</font></p>\\r\\n<p class=\"MsoNormal\" style=\"text-indent: 19.1pt; margin: 0in 0in 10pt;\"><font size=\"3\"><font face=\"Calibri\"><span style=\"mso-tab-count: 1;\">\\xa0\\xa0\\xa0\\xa0\\xa0\\xa0\\xa0 </span>A. Training and Skills of a Neuropsychologist</font></font></p>\\r\\n<p class=\"MsoNormal\" style=\"margin: 0in 0in 10pt;\"><font size=\"3\"><font face=\"Calibri\"><span style=\"mso-tab-count: 1;\">\\xa0\\xa0\\xa0\\xa0\\xa0\\xa0\\xa0\\xa0\\xa0\\xa0\\xa0\\xa0\\xa0\\xa0\\xa0 </span>B. The Neuropsychological Examination</font></font></p>\\r\\n<p class=\"MsoNormal\" style=\"margin: 0in 0in 10pt 18.4pt;\"><font size=\"3\" face=\"Calibri\">II. Brain Injuries</font></p>\\r\\n<p class=\"MsoNormal\" style=\"margin: 0in 0in 10pt;\"><font size=\"3\"><font face=\"Calibri\"><span style=\"mso-tab-count: 1;\">\\xa0\\xa0\\xa0\\xa0\\xa0\\xa0\\xa0\\xa0\\xa0\\xa0\\xa0\\xa0\\xa0\\xa0\\xa0 </span>A. Cognitive Consequences of Brain Injuries</font></font></p>\\r\\n<p class=\"MsoNormal\" style=\"margin: 0in 0in 10pt 0.5in;\"><font size=\"3\" face=\"Calibri\">B. Behavioral Consequences of Brain Injuries</font></p>\\r\\n<ol style=\"margin-top: 0in;\" type=\"I\" start=\"3\">\\r\\n<li class=\"MsoNormal\" style=\"line-height: normal; margin: 0in 0in 0pt; mso-list: l0 level1 lfo2; mso-pagination: none; mso-hyphenate: none; tab-stops: .5in;\"><font size=\"3\" face=\"Calibri\">Cognitive Rehabilitation</font></li>\\r\\n</ol>\\r\\n<p class=\"MsoNormal\" style=\"margin: 0in 0in 10pt 0.5in;\"><font size=\"3\" face=\"Calibri\">A. Compensatory Strategies</font></p>\\r\\n<p class=\"MsoNormal\" style=\"margin: 0in 0in 10pt 0.5in;\"><font size=\"3\" face=\"Calibri\">B. Remediation of deficits</font></p>\\r\\n<ol style=\"margin-top: 0in;\" type=\"I\" start=\"4\">\\r\\n<li class=\"MsoNormal\" style=\"line-height: normal; margin: 0in 0in 0pt; mso-list: l0 level1 lfo2; mso-pagination: none; mso-hyphenate: none; tab-stops: .5in;\"><font size=\"3\" face=\"Calibri\">Case Examples</font></li>\\r\\n</ol>\\r\\n<p class=\"MsoNormal\" style=\"margin: 0in 0in 10pt 0.5in;\"><font size=\"3\" face=\"Calibri\">A. Stroke Case</font></p>\\r\\n<p class=\"MsoNormal\" style=\"margin: 0in 0in 10pt 0.5in;\"><font size=\"3\" face=\"Calibri\">B. Traumatic Brain Injury Case</font></p>\\r\\n<p class=\"MsoNormal\" style=\"margin: 0in 0in 0pt -9pt;\"><em style=\"mso-bidi-font-style: normal;\"><span style=\"font-size: 10pt;\"><font face=\"Times New Roman\">\\xa0</font></span></em></p>\\r\\n<p class=\"MsoNormal\" style=\"margin: 0in 0in 0pt -9pt; text-align: center;\" align=\"center\"><em style=\"mso-bidi-font-style: normal;\"><span style=\"font-size: 10pt;\"><font face=\"Times New Roman\">\\xa0</font></span></em></p>\\r\\n<p class=\"MsoNormal\" style=\"margin: 0in 0in 0pt -9pt;\"><span style=\"font-size: 20pt; font-family: \\'Comic Sans MS\\';\">Speaker</span><span style=\"font-size: 18pt; font-family: \\'Comic Sans MS\\';\">: Dr. Joshua Cohen, PhD</span></p>\\r\\n<p class=\"MsoNormal\" style=\"margin: 0in 0in 0pt -9pt; text-align: center;\" align=\"center\">\\xa0</p>',\n",
       " 'email_domain': 'meridianhealth.com',\n",
       " 'event_created': 1356361547,\n",
       " 'event_end': 1366857000,\n",
       " 'event_published': 1356362547.0,\n",
       " 'event_start': 1366849800,\n",
       " 'fb_published': 0,\n",
       " 'gts': 219.26,\n",
       " 'has_analytics': 0,\n",
       " 'has_header': 0.0,\n",
       " 'has_logo': 1,\n",
       " 'listed': 'y',\n",
       " 'name': 'Cognitive Rehabilitation in recovery from Brain Injury',\n",
       " 'name_length': 54,\n",
       " 'num_order': 19,\n",
       " 'num_payouts': 1,\n",
       " 'object_id': 5084360,\n",
       " 'org_desc': '<p><span style=\"font-size: 11pt; layout-grid-mode: line; font-family: Arial; mso-fareast-font-family: \\'Times New Roman\\'; mso-ansi-language: EN-US; mso-fareast-language: EN-US; mso-bidi-language: AR-SA;\">Shore Rehabilitation Institute (</span><span style=\"font-size: 11pt; layout-grid-mode: line; font-family: Arial; mso-fareast-font-family: \\'Times New Roman\\'; mso-ansi-language: EN-US; mso-fareast-language: EN-US; mso-bidi-language: AR-SA;\">SRI</span><span style=\"font-size: 11pt; layout-grid-mode: line; font-family: Arial; mso-fareast-font-family: \\'Times New Roman\\'; mso-ansi-language: EN-US; mso-fareast-language: EN-US; mso-bidi-language: AR-SA;\">) consists of acute\\xa0inpatient rehabilitation services and diverse outpatient programming.<span style=\"mso-spacerun: yes;\">\\xa0 </span></span><span style=\"font-size: 11pt; layout-grid-mode: line; font-family: Arial; mso-fareast-font-family: \\'Times New Roman\\'; mso-ansi-language: EN-US; mso-fareast-language: EN-US; mso-bidi-language: AR-SA;\">SRI</span><span style=\"font-size: 11pt; layout-grid-mode: line; font-family: Arial; mso-fareast-font-family: \\'Times New Roman\\'; mso-ansi-language: EN-US; mso-fareast-language: EN-US; mso-bidi-language: AR-SA;\"> provides individualized rehabilitation services including, but not limited to, Physiatry, PT, OT, Speech Pathology, Rehabilitation Nursing, Therapeutic Recreation, Social Work/Case Management, Psychology, Dietary and Vocational services to adult and geriatric patients. </span><span style=\"font-size: 11pt; layout-grid-mode: line; font-family: Arial; mso-fareast-font-family: \\'Times New Roman\\'; mso-ansi-language: EN-US; mso-fareast-language: EN-US; mso-bidi-language: AR-SA;\">SRI</span><span style=\"font-size: 11pt; layout-grid-mode: line; font-family: Arial; mso-fareast-font-family: \\'Times New Roman\\'; mso-ansi-language: EN-US; mso-fareast-language: EN-US; mso-bidi-language: AR-SA;\"> provides patient care with interdisciplinary approach in a team setting</span></p>',\n",
       " 'org_facebook': 0.0,\n",
       " 'org_name': 'Shore Rehabilitation Institute',\n",
       " 'org_twitter': 0.0,\n",
       " 'payee_name': 'Shore Rehabilitation Institute',\n",
       " 'payout_type': 'CHECK',\n",
       " 'previous_payouts': \"[{u'name': u'Shore Rehabilitation Institute', u'created': u'2012-10-18 03:16:43', u'country': u'US', u'state': u'NJ', u'amount': 1447.76, u'address': u'425 Jack Martin Blvd', u'zip_code': u'08724', u'event': 3796856, u'uid': 32657653}, {u'name': u'Shore Rehabilitation Institute', u'created': u'2013-05-25 00:00:00', u'country': u'US', u'state': u'NJ', u'amount': 188.76, u'address': u'425 Jack Martin Blvd', u'zip_code': u'08724', u'event': 5084360, u'uid': 32657653}]\",\n",
       " 'sale_duration': 121.0,\n",
       " 'sale_duration2': 121,\n",
       " 'sample_uuid': '78253fcf-4f53-4c53-8c02-e8917f47bb75',\n",
       " 'show_map': 1,\n",
       " 'ticket_types': \"[{u'event_id': 5084360, u'cost': 10.0, u'availability': 1, u'quantity_total': 50, u'quantity_sold': 20}]\",\n",
       " 'user_age': 235,\n",
       " 'user_created': 1336052808,\n",
       " 'user_type': 4,\n",
       " 'venue_address': None,\n",
       " 'venue_country': 'US',\n",
       " 'venue_latitude': 40.0876046,\n",
       " 'venue_longitude': -74.1122506,\n",
       " 'venue_name': '425 Jack Martin Blvd',\n",
       " 'venue_state': 'NJ'}"
      ]
     },
     "execution_count": 25,
     "metadata": {},
     "output_type": "execute_result"
    }
   ],
   "source": [
    "example_params"
   ]
  },
  {
   "cell_type": "code",
   "execution_count": 82,
   "metadata": {
    "collapsed": true
   },
   "outputs": [],
   "source": [
    "labels={'user_type','org_facebook','org_twitter'}"
   ]
  },
  {
   "cell_type": "code",
   "execution_count": 92,
   "metadata": {},
   "outputs": [],
   "source": [
    "input_data=dict((key,example_params.get(key)) for key in labels)"
   ]
  },
  {
   "cell_type": "code",
   "execution_count": 26,
   "metadata": {},
   "outputs": [],
   "source": [
    "example_params_df = pd.DataFrame(example_params, index=[0])"
   ]
  },
  {
   "cell_type": "code",
   "execution_count": 27,
   "metadata": {},
   "outputs": [],
   "source": [
    "input=example_params_df[['user_type','org_facebook','org_twitter']]"
   ]
  },
  {
   "cell_type": "code",
   "execution_count": 32,
   "metadata": {},
   "outputs": [
    {
     "data": {
      "text/html": [
       "<div>\n",
       "<style scoped>\n",
       "    .dataframe tbody tr th:only-of-type {\n",
       "        vertical-align: middle;\n",
       "    }\n",
       "\n",
       "    .dataframe tbody tr th {\n",
       "        vertical-align: top;\n",
       "    }\n",
       "\n",
       "    .dataframe thead th {\n",
       "        text-align: right;\n",
       "    }\n",
       "</style>\n",
       "<table border=\"1\" class=\"dataframe\">\n",
       "  <thead>\n",
       "    <tr style=\"text-align: right;\">\n",
       "      <th></th>\n",
       "      <th>approx_payout_date</th>\n",
       "      <th>body_length</th>\n",
       "      <th>channels</th>\n",
       "      <th>country</th>\n",
       "      <th>currency</th>\n",
       "      <th>delivery_method</th>\n",
       "      <th>description</th>\n",
       "      <th>email_domain</th>\n",
       "      <th>event_created</th>\n",
       "      <th>event_end</th>\n",
       "      <th>...</th>\n",
       "      <th>ticket_types</th>\n",
       "      <th>user_age</th>\n",
       "      <th>user_created</th>\n",
       "      <th>user_type</th>\n",
       "      <th>venue_address</th>\n",
       "      <th>venue_country</th>\n",
       "      <th>venue_latitude</th>\n",
       "      <th>venue_longitude</th>\n",
       "      <th>venue_name</th>\n",
       "      <th>venue_state</th>\n",
       "    </tr>\n",
       "  </thead>\n",
       "  <tbody>\n",
       "    <tr>\n",
       "      <th>0</th>\n",
       "      <td>1367289000</td>\n",
       "      <td>6635</td>\n",
       "      <td>11</td>\n",
       "      <td>US</td>\n",
       "      <td>USD</td>\n",
       "      <td>0.0</td>\n",
       "      <td>&lt;p class=\"MsoNormal\" style=\"margin: 0in 0in 0p...</td>\n",
       "      <td>meridianhealth.com</td>\n",
       "      <td>1356361547</td>\n",
       "      <td>1366857000</td>\n",
       "      <td>...</td>\n",
       "      <td>[{u'event_id': 5084360, u'cost': 10.0, u'avail...</td>\n",
       "      <td>235</td>\n",
       "      <td>1336052808</td>\n",
       "      <td>4</td>\n",
       "      <td>None</td>\n",
       "      <td>US</td>\n",
       "      <td>40.087605</td>\n",
       "      <td>-74.112251</td>\n",
       "      <td>425 Jack Martin Blvd</td>\n",
       "      <td>NJ</td>\n",
       "    </tr>\n",
       "  </tbody>\n",
       "</table>\n",
       "<p>1 rows × 44 columns</p>\n",
       "</div>"
      ],
      "text/plain": [
       "   approx_payout_date  body_length  channels country currency  \\\n",
       "0          1367289000         6635        11      US      USD   \n",
       "\n",
       "   delivery_method                                        description  \\\n",
       "0              0.0  <p class=\"MsoNormal\" style=\"margin: 0in 0in 0p...   \n",
       "\n",
       "         email_domain  event_created   event_end     ...       \\\n",
       "0  meridianhealth.com     1356361547  1366857000     ...        \n",
       "\n",
       "                                        ticket_types  user_age  user_created  \\\n",
       "0  [{u'event_id': 5084360, u'cost': 10.0, u'avail...       235    1336052808   \n",
       "\n",
       "   user_type  venue_address  venue_country  venue_latitude venue_longitude  \\\n",
       "0          4           None             US       40.087605      -74.112251   \n",
       "\n",
       "             venue_name  venue_state  \n",
       "0  425 Jack Martin Blvd           NJ  \n",
       "\n",
       "[1 rows x 44 columns]"
      ]
     },
     "execution_count": 32,
     "metadata": {},
     "output_type": "execute_result"
    }
   ],
   "source": [
    "example_params_df"
   ]
  },
  {
   "cell_type": "code",
   "execution_count": 31,
   "metadata": {},
   "outputs": [
    {
     "data": {
      "text/plain": [
       "0.0"
      ]
     },
     "execution_count": 31,
     "metadata": {},
     "output_type": "execute_result"
    }
   ],
   "source": [
    "label =lr.predict(input)[0]\n",
    "label"
   ]
  },
  {
   "cell_type": "code",
   "execution_count": 67,
   "metadata": {},
   "outputs": [
    {
     "data": {
      "text/plain": [
       "{'approx_payout_date': 1367289000,\n",
       " 'body_length': 6635,\n",
       " 'channels': 11,\n",
       " 'country': 'US',\n",
       " 'currency': 'USD',\n",
       " 'delivery_method': 0.0,\n",
       " 'description': '<p class=\"MsoNormal\" style=\"margin: 0in 0in 0pt; text-align: center;\" align=\"center\"><strong style=\"mso-bidi-font-weight: normal;\"><span style=\"font-size: 22pt; font-family: \\'Comic Sans MS\\';\">SHORE REHABILITATION INSTITUTE</span></strong><span style=\"font-size: 22pt; font-family: \\'Comic Sans MS\\';\"> presents:</span></p>\\r\\n<p class=\"MsoNormal\" style=\"margin: 0in 0in 0pt -9pt; text-align: center;\" align=\"center\"><span style=\"font-size: 22pt; font-family: \\'Comic Sans MS\\';\">4/24/2013- 5:30pm-7:30pm</span></p>\\r\\n<p class=\"MsoNormal\" style=\"margin: 0in 0in 0pt -9pt; text-align: center;\" align=\"center\"><span style=\"font-size: 16pt; font-family: \\'Comic Sans MS\\';\">Lower Level Conference Room “C” </span></p>\\r\\n<p class=\"MsoNormal\" style=\"margin: 0in 0in 0pt;\"><em style=\"mso-bidi-font-style: normal;\"><span style=\"font-size: 28pt; font-family: \\'Comic Sans MS\\';\">“The</span></em><strong><span style=\"font-size: 28pt; font-family: \\'Comic Sans MS\\';\"> Role of Neuropsychology and Cognitive Rehabilitation in Recovery from Brain Injury</span></strong><em style=\"mso-bidi-font-style: normal;\"><span style=\"font-size: 28pt; font-family: \\'Comic Sans MS\\';\">”</span></em></p>\\r\\n<p>\\xa0</p>\\r\\n<p class=\"MsoNormal\" style=\"margin: 0in 0in 0pt -9pt; text-align: center;\" align=\"center\"><strong style=\"mso-bidi-font-weight: normal;\"><u><span style=\"font-family: \\'Comic Sans MS\\'; mso-bidi-font-size: 12.0pt;\"><font size=\"3\">Target Audience</font></span></u></strong></p>\\r\\n<p>\\xa0</p>\\r\\n<p class=\"MsoNormal\" style=\"margin: 0in 0in 0pt -9pt; text-align: center;\" align=\"center\"><span style=\"font-family: \\'Comic Sans MS\\'; mso-bidi-font-size: 12.0pt;\"><font size=\"3\">Physicians, Case Managers, Registered Nurses, Social Workers, Physical, Occupational and Speech Therapists.</font></span></p>\\r\\n<p>\\xa0</p>\\r\\n<p class=\"MsoNormal\" style=\"margin: 0in 0in 0pt -9pt; mso-outline-level: 4;\"><em style=\"mso-bidi-font-style: normal;\"><span style=\"font-size: 18pt; font-family: \\'Comic Sans MS\\';\"><span style=\"mso-spacerun: yes;\">\\xa0</span></span></em></p>\\r\\n<p class=\"MsoListParagraphCxSpFirst\" style=\"text-indent: -0.25in; margin: 0in 0in 0pt 0.5in; mso-list: l1 level1 lfo1;\"><span style=\"font-family: Symbol; mso-fareast-font-family: Symbol; mso-bidi-font-family: Symbol;\"><span style=\"mso-list: Ignore;\"><font size=\"3\">·</font><span style=\"font: 7pt \\'Times New Roman\\';\">\\xa0\\xa0\\xa0\\xa0\\xa0\\xa0\\xa0\\xa0 </span></span></span><span style=\"line-height: 115%; color: black; font-size: 14pt;\"><font face=\"Calibri\">Two contact hours approved for the appropriate regulatory bodies for\\xa0Physical Therapists, Occupational Therapists, case Managers and Social workers </font></span></p>\\r\\n<p class=\"MsoListParagraphCxSpMiddle\" style=\"text-indent: -0.25in; margin: 0in 0in 0pt 0.5in; mso-list: l1 level1 lfo1;\"><span style=\"font-family: Symbol; mso-fareast-font-family: Symbol; mso-bidi-font-family: Symbol;\"><span style=\"mso-list: Ignore;\"><font size=\"3\">·</font><span style=\"font: 7pt \\'Times New Roman\\';\">\\xa0\\xa0\\xa0\\xa0\\xa0\\xa0\\xa0\\xa0 </span></span></span><span style=\"line-height: 115%; color: black; font-size: 14pt;\"><font face=\"Calibri\">To receive CEUs attendance throughout the program is required.</font></span></p>\\r\\n<p class=\"MsoListParagraphCxSpLast\" style=\"text-indent: -0.25in; margin: 0in 0in 10pt 0.5in; mso-list: l1 level1 lfo1;\"><span style=\"font-family: Symbol; mso-fareast-font-family: Symbol; mso-bidi-font-family: Symbol;\"><span style=\"mso-list: Ignore;\"><font size=\"3\">·</font><span style=\"font: 7pt \\'Times New Roman\\';\">\\xa0\\xa0\\xa0\\xa0\\xa0\\xa0\\xa0\\xa0 </span></span></span><span style=\"line-height: 115%; color: black; font-size: 14pt;\"><font face=\"Calibri\">Program fee will be refunded if participant expresses dissatisfaction.</font></span></p>\\r\\n<p class=\"MsoNormal\" style=\"margin: 0in 0in 10pt 0.25in;\"><strong style=\"mso-bidi-font-weight: normal;\"><font size=\"3\"><font face=\"Calibri\">Agenda:</font></font></strong></p>\\r\\n<p class=\"MsoNormal\" style=\"margin: 0in 0in 10pt 0.25in;\"><font size=\"3\" face=\"Calibri\">\\xa0</font><font size=\"3\" face=\"Calibri\">I. Neuropsychology</font></p>\\r\\n<p class=\"MsoNormal\" style=\"text-indent: 19.1pt; margin: 0in 0in 10pt;\"><font size=\"3\"><font face=\"Calibri\"><span style=\"mso-tab-count: 1;\">\\xa0\\xa0\\xa0\\xa0\\xa0\\xa0\\xa0 </span>A. Training and Skills of a Neuropsychologist</font></font></p>\\r\\n<p class=\"MsoNormal\" style=\"margin: 0in 0in 10pt;\"><font size=\"3\"><font face=\"Calibri\"><span style=\"mso-tab-count: 1;\">\\xa0\\xa0\\xa0\\xa0\\xa0\\xa0\\xa0\\xa0\\xa0\\xa0\\xa0\\xa0\\xa0\\xa0\\xa0 </span>B. The Neuropsychological Examination</font></font></p>\\r\\n<p class=\"MsoNormal\" style=\"margin: 0in 0in 10pt 18.4pt;\"><font size=\"3\" face=\"Calibri\">II. Brain Injuries</font></p>\\r\\n<p class=\"MsoNormal\" style=\"margin: 0in 0in 10pt;\"><font size=\"3\"><font face=\"Calibri\"><span style=\"mso-tab-count: 1;\">\\xa0\\xa0\\xa0\\xa0\\xa0\\xa0\\xa0\\xa0\\xa0\\xa0\\xa0\\xa0\\xa0\\xa0\\xa0 </span>A. Cognitive Consequences of Brain Injuries</font></font></p>\\r\\n<p class=\"MsoNormal\" style=\"margin: 0in 0in 10pt 0.5in;\"><font size=\"3\" face=\"Calibri\">B. Behavioral Consequences of Brain Injuries</font></p>\\r\\n<ol style=\"margin-top: 0in;\" type=\"I\" start=\"3\">\\r\\n<li class=\"MsoNormal\" style=\"line-height: normal; margin: 0in 0in 0pt; mso-list: l0 level1 lfo2; mso-pagination: none; mso-hyphenate: none; tab-stops: .5in;\"><font size=\"3\" face=\"Calibri\">Cognitive Rehabilitation</font></li>\\r\\n</ol>\\r\\n<p class=\"MsoNormal\" style=\"margin: 0in 0in 10pt 0.5in;\"><font size=\"3\" face=\"Calibri\">A. Compensatory Strategies</font></p>\\r\\n<p class=\"MsoNormal\" style=\"margin: 0in 0in 10pt 0.5in;\"><font size=\"3\" face=\"Calibri\">B. Remediation of deficits</font></p>\\r\\n<ol style=\"margin-top: 0in;\" type=\"I\" start=\"4\">\\r\\n<li class=\"MsoNormal\" style=\"line-height: normal; margin: 0in 0in 0pt; mso-list: l0 level1 lfo2; mso-pagination: none; mso-hyphenate: none; tab-stops: .5in;\"><font size=\"3\" face=\"Calibri\">Case Examples</font></li>\\r\\n</ol>\\r\\n<p class=\"MsoNormal\" style=\"margin: 0in 0in 10pt 0.5in;\"><font size=\"3\" face=\"Calibri\">A. Stroke Case</font></p>\\r\\n<p class=\"MsoNormal\" style=\"margin: 0in 0in 10pt 0.5in;\"><font size=\"3\" face=\"Calibri\">B. Traumatic Brain Injury Case</font></p>\\r\\n<p class=\"MsoNormal\" style=\"margin: 0in 0in 0pt -9pt;\"><em style=\"mso-bidi-font-style: normal;\"><span style=\"font-size: 10pt;\"><font face=\"Times New Roman\">\\xa0</font></span></em></p>\\r\\n<p class=\"MsoNormal\" style=\"margin: 0in 0in 0pt -9pt; text-align: center;\" align=\"center\"><em style=\"mso-bidi-font-style: normal;\"><span style=\"font-size: 10pt;\"><font face=\"Times New Roman\">\\xa0</font></span></em></p>\\r\\n<p class=\"MsoNormal\" style=\"margin: 0in 0in 0pt -9pt;\"><span style=\"font-size: 20pt; font-family: \\'Comic Sans MS\\';\">Speaker</span><span style=\"font-size: 18pt; font-family: \\'Comic Sans MS\\';\">: Dr. Joshua Cohen, PhD</span></p>\\r\\n<p class=\"MsoNormal\" style=\"margin: 0in 0in 0pt -9pt; text-align: center;\" align=\"center\">\\xa0</p>',\n",
       " 'email_domain': 'meridianhealth.com',\n",
       " 'event_created': 1356361547,\n",
       " 'event_end': 1366857000,\n",
       " 'event_published': 1356362547.0,\n",
       " 'event_start': 1366849800,\n",
       " 'fb_published': 0,\n",
       " 'gts': 219.26,\n",
       " 'has_analytics': 0,\n",
       " 'has_header': 0.0,\n",
       " 'has_logo': 1,\n",
       " 'listed': 'y',\n",
       " 'name': 'Cognitive Rehabilitation in recovery from Brain Injury',\n",
       " 'name_length': 54,\n",
       " 'num_order': 19,\n",
       " 'num_payouts': 1,\n",
       " 'object_id': 5084360,\n",
       " 'org_desc': '<p><span style=\"font-size: 11pt; layout-grid-mode: line; font-family: Arial; mso-fareast-font-family: \\'Times New Roman\\'; mso-ansi-language: EN-US; mso-fareast-language: EN-US; mso-bidi-language: AR-SA;\">Shore Rehabilitation Institute (</span><span style=\"font-size: 11pt; layout-grid-mode: line; font-family: Arial; mso-fareast-font-family: \\'Times New Roman\\'; mso-ansi-language: EN-US; mso-fareast-language: EN-US; mso-bidi-language: AR-SA;\">SRI</span><span style=\"font-size: 11pt; layout-grid-mode: line; font-family: Arial; mso-fareast-font-family: \\'Times New Roman\\'; mso-ansi-language: EN-US; mso-fareast-language: EN-US; mso-bidi-language: AR-SA;\">) consists of acute\\xa0inpatient rehabilitation services and diverse outpatient programming.<span style=\"mso-spacerun: yes;\">\\xa0 </span></span><span style=\"font-size: 11pt; layout-grid-mode: line; font-family: Arial; mso-fareast-font-family: \\'Times New Roman\\'; mso-ansi-language: EN-US; mso-fareast-language: EN-US; mso-bidi-language: AR-SA;\">SRI</span><span style=\"font-size: 11pt; layout-grid-mode: line; font-family: Arial; mso-fareast-font-family: \\'Times New Roman\\'; mso-ansi-language: EN-US; mso-fareast-language: EN-US; mso-bidi-language: AR-SA;\"> provides individualized rehabilitation services including, but not limited to, Physiatry, PT, OT, Speech Pathology, Rehabilitation Nursing, Therapeutic Recreation, Social Work/Case Management, Psychology, Dietary and Vocational services to adult and geriatric patients. </span><span style=\"font-size: 11pt; layout-grid-mode: line; font-family: Arial; mso-fareast-font-family: \\'Times New Roman\\'; mso-ansi-language: EN-US; mso-fareast-language: EN-US; mso-bidi-language: AR-SA;\">SRI</span><span style=\"font-size: 11pt; layout-grid-mode: line; font-family: Arial; mso-fareast-font-family: \\'Times New Roman\\'; mso-ansi-language: EN-US; mso-fareast-language: EN-US; mso-bidi-language: AR-SA;\"> provides patient care with interdisciplinary approach in a team setting</span></p>',\n",
       " 'org_facebook': 0.0,\n",
       " 'org_name': 'Shore Rehabilitation Institute',\n",
       " 'org_twitter': 0.0,\n",
       " 'payee_name': 'Shore Rehabilitation Institute',\n",
       " 'payout_type': 'CHECK',\n",
       " 'previous_payouts': \"[{u'name': u'Shore Rehabilitation Institute', u'created': u'2012-10-18 03:16:43', u'country': u'US', u'state': u'NJ', u'amount': 1447.76, u'address': u'425 Jack Martin Blvd', u'zip_code': u'08724', u'event': 3796856, u'uid': 32657653}, {u'name': u'Shore Rehabilitation Institute', u'created': u'2013-05-25 00:00:00', u'country': u'US', u'state': u'NJ', u'amount': 188.76, u'address': u'425 Jack Martin Blvd', u'zip_code': u'08724', u'event': 5084360, u'uid': 32657653}]\",\n",
       " 'sale_duration': 121.0,\n",
       " 'sale_duration2': 121,\n",
       " 'sample_uuid': '78253fcf-4f53-4c53-8c02-e8917f47bb75',\n",
       " 'show_map': 1,\n",
       " 'ticket_types': \"[{u'event_id': 5084360, u'cost': 10.0, u'availability': 1, u'quantity_total': 50, u'quantity_sold': 20}]\",\n",
       " 'user_age': 235,\n",
       " 'user_created': 1336052808,\n",
       " 'user_type': 4,\n",
       " 'venue_address': None,\n",
       " 'venue_country': 'US',\n",
       " 'venue_latitude': 40.0876046,\n",
       " 'venue_longitude': -74.1122506,\n",
       " 'venue_name': '425 Jack Martin Blvd',\n",
       " 'venue_state': 'NJ'}"
      ]
     },
     "execution_count": 67,
     "metadata": {},
     "output_type": "execute_result"
    }
   ],
   "source": [
    "example_params"
   ]
  },
  {
   "cell_type": "code",
   "execution_count": null,
   "metadata": {
    "collapsed": true
   },
   "outputs": [],
   "source": []
  }
 ],
 "metadata": {
  "kernelspec": {
   "display_name": "Python [default]",
   "language": "python",
   "name": "python3"
  },
  "language_info": {
   "codemirror_mode": {
    "name": "ipython",
    "version": 3
   },
   "file_extension": ".py",
   "mimetype": "text/x-python",
   "name": "python",
   "nbconvert_exporter": "python",
   "pygments_lexer": "ipython3",
   "version": "3.6.4"
  }
 },
 "nbformat": 4,
 "nbformat_minor": 2
}
